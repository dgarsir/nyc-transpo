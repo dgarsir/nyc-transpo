{
  "nbformat": 4,
  "nbformat_minor": 0,
  "metadata": {
    "colab": {
      "name": "nyc-transpo.ipynb",
      "version": "0.3.2",
      "provenance": [],
      "include_colab_link": true
    },
    "kernelspec": {
      "name": "python3",
      "display_name": "Python 3"
    }
  },
  "cells": [
    {
      "cell_type": "markdown",
      "metadata": {
        "id": "view-in-github",
        "colab_type": "text"
      },
      "source": [
        "<a href=\"https://colab.research.google.com/github/dvignoles/nyc-transpo/blob/master/nyc_transpo.ipynb\" target=\"_parent\"><img src=\"https://colab.research.google.com/assets/colab-badge.svg\" alt=\"Open In Colab\"/></a>"
      ]
    },
    {
      "metadata": {
        "id": "mcFKx7BCp9he",
        "colab_type": "code",
        "colab": {}
      },
      "cell_type": "code",
      "source": [
        "import pandas as pd\n",
        "import requests, zipfile, io, os, re, csv\n",
        "\n",
        "TAXI_CSV_PATH = \"./taxi_data\"\n",
        "BIKE_CSV_PATH = \"./bike_data\"\n",
        "\n",
        "# We will use with 2013-2018 June data since June 2013 is when Citi Bike was started, and 2013-2018 data is available for both taxi and bikes.\n",
        "YEARS = [\"2013\", \"2014\", \"2015\", \"2016\", \"2017\", \"2018\"]"
      ],
      "execution_count": 0,
      "outputs": []
    },
    {
      "metadata": {
        "id": "pSmOmhdUHW3g",
        "colab_type": "code",
        "colab": {}
      },
      "cell_type": "code",
      "source": [
        "# Set up directories and util functions to store the downloaded csv files\n",
        "\n",
        "if os.path.isdir(TAXI_CSV_PATH) is False:\n",
        "  os.mkdir(TAXI_CSV_PATH)\n",
        "if os.path.isdir(BIKE_CSV_PATH) is False:\n",
        "  os.mkdir(BIKE_CSV_PATH)\n",
        "\n",
        "def save_csv(file_path, http_data):\n",
        "    with open(file_path, \"w\") as f:\n",
        "      writer = csv.writer(f)\n",
        "      reader = csv.reader(http_data.text.splitlines())\n",
        "      for row in reader:\n",
        "        writer.writerow(row)\n",
        "        \n",
        "def get_csv_name(data_type, year):\n",
        "  if data_type is \"taxi\":\n",
        "    return TAXI_CSV_PATH + \"/\" + year + \"-06.csv\"\n",
        "  elif data_type is \"bike\":\n",
        "    return BIKE_CSV_PATH + \"/\" + year + \"-06.csv\"\n",
        "  else:\n",
        "    raise Exception(\"Data type must be taxi or bike\")"
      ],
      "execution_count": 0,
      "outputs": []
    },
    {
      "metadata": {
        "id": "B4ttmHZI_vQj",
        "colab_type": "text"
      },
      "cell_type": "markdown",
      "source": [
        "# Taxi Dataframes\n"
      ]
    },
    {
      "metadata": {
        "id": "NDqsFhLGqqhi",
        "colab_type": "code",
        "colab": {}
      },
      "cell_type": "code",
      "source": [
        "# Download and save the files first so they don't have to be redownloaded every time\n",
        "\n",
        "for n in YEARS:\n",
        "  file_path = get_csv_name(\"taxi\", n)\n",
        "  if os.path.isfile(file_path) is False:\n",
        "    data = requests.get(\"https://s3.amazonaws.com/nyc-tlc/trip+data/yellow_tripdata_201\" + n + \"-06.csv\")\n",
        "    save_csv(file_path, data)\n",
        "    \n",
        "# Load the actual data\n",
        "\n",
        "df_taxi_2013 = pd.read_csv(get_csv_name(\"taxi\", \"2013\"), nrows=100000, low_memory=False)\n",
        "df_taxi_2014 = pd.read_csv(get_csv_name(\"taxi\", \"2014\"), nrows=100000, low_memory=False)\n",
        "df_taxi_2015 = pd.read_csv(get_csv_name(\"taxi\", \"2015\"), nrows=100000, low_memory=False)\n",
        "df_taxi_2016 = pd.read_csv(get_csv_name(\"taxi\", \"2016\"), nrows=100000, low_memory=False)\n",
        "df_taxi_2017 = pd.read_csv(get_csv_name(\"taxi\", \"2017\"), nrows=100000, low_memory=False)\n",
        "df_taxi_2018 = pd.read_csv(get_csv_name(\"taxi\", \"2018\"), nrows=100000, low_memory=False)"
      ],
      "execution_count": 0,
      "outputs": []
    },
    {
      "metadata": {
        "id": "G8tvoelD_zZ6",
        "colab_type": "text"
      },
      "cell_type": "markdown",
      "source": [
        "# Citi Bike Dataframes\n",
        "Since Citi Bike does not directly provide csv files, we must handle the zip files, extract, and load them accordingly."
      ]
    },
    {
      "metadata": {
        "id": "j7Qey2ah65QT",
        "colab_type": "code",
        "colab": {}
      },
      "cell_type": "code",
      "source": [
        "reg_pattern = re.compile(\"^\\d+.*\\.csv$\")\n",
        "\n",
        "for n in YEARS:\n",
        "  # See if the file exists\n",
        "  file_path = get_csv_name(\"bike\", n)\n",
        "  if os.path.isfile(file_path) is True:\n",
        "    continue\n",
        "\n",
        "  # If not, request and save it\n",
        "  req_url = \"\"\n",
        "  if n != \"2017\" and n != \"2018\":\n",
        "    req_url = \"https://s3.amazonaws.com/tripdata/\" + n + \"06-citibike-tripdata.zip\"\n",
        "  else:\n",
        "    req_url = \"https://s3.amazonaws.com/tripdata/\" + n + \"06-citibike-tripdata.csv.zip\"\n",
        "  z = zipfile.ZipFile(io.BytesIO(requests.get(req_url).content))\n",
        "  orig_file_name = list(filter(reg_pattern.match, z.namelist()))[0]\n",
        "  z.extract(orig_file_name)\n",
        "  os.rename(orig_file_name, get_csv_name(\"bike\", n)) # Renaming the file will automatically remove it"
      ],
      "execution_count": 0,
      "outputs": []
    },
    {
      "metadata": {
        "id": "vCP7pOzX-ghZ",
        "colab_type": "code",
        "colab": {}
      },
      "cell_type": "code",
      "source": [
        "df_bike_2013 = pd.read_csv(get_csv_name(\"bike\", \"2013\"), nrows=100000, low_memory=False)\n",
        "df_bike_2014 = pd.read_csv(get_csv_name(\"bike\", \"2014\"), nrows=100000, low_memory=False)\n",
        "df_bike_2015 = pd.read_csv(get_csv_name(\"bike\", \"2015\"), nrows=100000, low_memory=False)\n",
        "df_bike_2016 = pd.read_csv(get_csv_name(\"bike\", \"2016\"), nrows=100000, low_memory=False)\n",
        "df_bike_2017 = pd.read_csv(get_csv_name(\"bike\", \"2017\"), nrows=100000, low_memory=False)\n",
        "df_bike_2018 = pd.read_csv(get_csv_name(\"bike\", \"2018\"), nrows=100000, low_memory=False)"
      ],
      "execution_count": 0,
      "outputs": []
    },
    {
      "metadata": {
        "id": "_yJDOlhI-3gB",
        "colab_type": "code",
        "colab": {}
      },
      "cell_type": "code",
      "source": [
        ""
      ],
      "execution_count": 0,
      "outputs": []
    }
  ]
}